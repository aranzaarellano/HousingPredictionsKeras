{
  "nbformat": 4,
  "nbformat_minor": 0,
  "metadata": {
    "colab": {
      "name": "HousingPricePrediction.ipynb",
      "version": "0.3.2",
      "provenance": [],
      "include_colab_link": true
    },
    "kernelspec": {
      "name": "python3",
      "display_name": "Python 3"
    }
  },
  "cells": [
    {
      "cell_type": "markdown",
      "metadata": {
        "id": "view-in-github",
        "colab_type": "text"
      },
      "source": [
        "<a href=\"https://colab.research.google.com/github/cezzzanne/HousingPredictionsKeras/blob/master/HousingPricePrediction.ipynb\" target=\"_parent\"><img src=\"https://colab.research.google.com/assets/colab-badge.svg\" alt=\"Open In Colab\"/></a>"
      ]
    },
    {
      "metadata": {
        "id": "1ff3dAzyq2tI",
        "colab_type": "code",
        "colab": {}
      },
      "cell_type": "code",
      "source": [
        "# These are the tools whcih will help us build our algorithms much more efficiently\n",
        "import pandas as pd\n",
        "import numpy as np\n",
        "import tensorflow as tf"
      ],
      "execution_count": 0,
      "outputs": []
    },
    {
      "metadata": {
        "id": "DFM8ODyJLwRS",
        "colab_type": "text"
      },
      "cell_type": "markdown",
      "source": [
        "# Curate the Data"
      ]
    },
    {
      "metadata": {
        "id": "Qih8_g_kLUAC",
        "colab_type": "text"
      },
      "cell_type": "markdown",
      "source": [
        "We use read_csv() to read the data we have loaded into our colab space. This will create a dataframe (matrix or table)"
      ]
    },
    {
      "metadata": {
        "id": "iv8i4xI_LaZW",
        "colab_type": "text"
      },
      "cell_type": "markdown",
      "source": [
        "We Then use the .head() function on our dataframe to visualize the data"
      ]
    },
    {
      "metadata": {
        "id": "6JkDck7atVj4",
        "colab_type": "code",
        "colab": {
          "base_uri": "https://localhost:8080/",
          "height": 289
        },
        "outputId": "d7cc7c87-fcee-4f02-845c-23c449bfe048"
      },
      "cell_type": "code",
      "source": [
        "train_df = pd.read_csv('housing.csv')\n",
        "train_df.head()"
      ],
      "execution_count": 3,
      "outputs": [
        {
          "output_type": "execute_result",
          "data": {
            "text/html": [
              "<div>\n",
              "<style scoped>\n",
              "    .dataframe tbody tr th:only-of-type {\n",
              "        vertical-align: middle;\n",
              "    }\n",
              "\n",
              "    .dataframe tbody tr th {\n",
              "        vertical-align: top;\n",
              "    }\n",
              "\n",
              "    .dataframe thead th {\n",
              "        text-align: right;\n",
              "    }\n",
              "</style>\n",
              "<table border=\"1\" class=\"dataframe\">\n",
              "  <thead>\n",
              "    <tr style=\"text-align: right;\">\n",
              "      <th></th>\n",
              "      <th>Suburb</th>\n",
              "      <th>Address</th>\n",
              "      <th>Rooms</th>\n",
              "      <th>Type</th>\n",
              "      <th>Price</th>\n",
              "      <th>Method</th>\n",
              "      <th>SellerG</th>\n",
              "      <th>Date</th>\n",
              "      <th>Postcode</th>\n",
              "      <th>Regionname</th>\n",
              "      <th>Propertycount</th>\n",
              "      <th>Distance</th>\n",
              "      <th>CouncilArea</th>\n",
              "    </tr>\n",
              "  </thead>\n",
              "  <tbody>\n",
              "    <tr>\n",
              "      <th>0</th>\n",
              "      <td>Abbotsford</td>\n",
              "      <td>49 Lithgow St</td>\n",
              "      <td>3</td>\n",
              "      <td>h</td>\n",
              "      <td>1490000.0</td>\n",
              "      <td>S</td>\n",
              "      <td>Jellis</td>\n",
              "      <td>1/04/2017</td>\n",
              "      <td>3067</td>\n",
              "      <td>Northern Metropolitan</td>\n",
              "      <td>4019</td>\n",
              "      <td>3.0</td>\n",
              "      <td>Yarra City Council</td>\n",
              "    </tr>\n",
              "    <tr>\n",
              "      <th>1</th>\n",
              "      <td>Abbotsford</td>\n",
              "      <td>59A Turner St</td>\n",
              "      <td>3</td>\n",
              "      <td>h</td>\n",
              "      <td>1220000.0</td>\n",
              "      <td>S</td>\n",
              "      <td>Marshall</td>\n",
              "      <td>1/04/2017</td>\n",
              "      <td>3067</td>\n",
              "      <td>Northern Metropolitan</td>\n",
              "      <td>4019</td>\n",
              "      <td>3.0</td>\n",
              "      <td>Yarra City Council</td>\n",
              "    </tr>\n",
              "    <tr>\n",
              "      <th>2</th>\n",
              "      <td>Abbotsford</td>\n",
              "      <td>119B Yarra St</td>\n",
              "      <td>3</td>\n",
              "      <td>h</td>\n",
              "      <td>1420000.0</td>\n",
              "      <td>S</td>\n",
              "      <td>Nelson</td>\n",
              "      <td>1/04/2017</td>\n",
              "      <td>3067</td>\n",
              "      <td>Northern Metropolitan</td>\n",
              "      <td>4019</td>\n",
              "      <td>3.0</td>\n",
              "      <td>Yarra City Council</td>\n",
              "    </tr>\n",
              "    <tr>\n",
              "      <th>3</th>\n",
              "      <td>Aberfeldie</td>\n",
              "      <td>68 Vida St</td>\n",
              "      <td>3</td>\n",
              "      <td>h</td>\n",
              "      <td>1515000.0</td>\n",
              "      <td>S</td>\n",
              "      <td>Barry</td>\n",
              "      <td>1/04/2017</td>\n",
              "      <td>3040</td>\n",
              "      <td>Western Metropolitan</td>\n",
              "      <td>1543</td>\n",
              "      <td>7.5</td>\n",
              "      <td>Moonee Valley City Council</td>\n",
              "    </tr>\n",
              "    <tr>\n",
              "      <th>4</th>\n",
              "      <td>Airport West</td>\n",
              "      <td>92 Clydesdale Rd</td>\n",
              "      <td>2</td>\n",
              "      <td>h</td>\n",
              "      <td>670000.0</td>\n",
              "      <td>S</td>\n",
              "      <td>Nelson</td>\n",
              "      <td>1/04/2017</td>\n",
              "      <td>3042</td>\n",
              "      <td>Western Metropolitan</td>\n",
              "      <td>3464</td>\n",
              "      <td>10.4</td>\n",
              "      <td>Moonee Valley City Council</td>\n",
              "    </tr>\n",
              "  </tbody>\n",
              "</table>\n",
              "</div>"
            ],
            "text/plain": [
              "         Suburb           Address  Rooms Type      Price Method   SellerG  \\\n",
              "0    Abbotsford     49 Lithgow St      3    h  1490000.0      S    Jellis   \n",
              "1    Abbotsford     59A Turner St      3    h  1220000.0      S  Marshall   \n",
              "2    Abbotsford     119B Yarra St      3    h  1420000.0      S    Nelson   \n",
              "3    Aberfeldie        68 Vida St      3    h  1515000.0      S     Barry   \n",
              "4  Airport West  92 Clydesdale Rd      2    h   670000.0      S    Nelson   \n",
              "\n",
              "        Date  Postcode             Regionname  Propertycount  Distance  \\\n",
              "0  1/04/2017      3067  Northern Metropolitan           4019       3.0   \n",
              "1  1/04/2017      3067  Northern Metropolitan           4019       3.0   \n",
              "2  1/04/2017      3067  Northern Metropolitan           4019       3.0   \n",
              "3  1/04/2017      3040   Western Metropolitan           1543       7.5   \n",
              "4  1/04/2017      3042   Western Metropolitan           3464      10.4   \n",
              "\n",
              "                  CouncilArea  \n",
              "0          Yarra City Council  \n",
              "1          Yarra City Council  \n",
              "2          Yarra City Council  \n",
              "3  Moonee Valley City Council  \n",
              "4  Moonee Valley City Council  "
            ]
          },
          "metadata": {
            "tags": []
          },
          "execution_count": 3
        }
      ]
    },
    {
      "metadata": {
        "id": "ZDSYW5AgLl_1",
        "colab_type": "text"
      },
      "cell_type": "markdown",
      "source": [
        "Now, we don't want all these variables because we don't think they all influence the price that much. For example, sellerName is of no interest to us.\n"
      ]
    },
    {
      "metadata": {
        "id": "fRYbM7ANLvew",
        "colab_type": "text"
      },
      "cell_type": "markdown",
      "source": [
        ""
      ]
    },
    {
      "metadata": {
        "id": "jggg8gPRte87",
        "colab_type": "code",
        "colab": {}
      },
      "cell_type": "code",
      "source": [
        "new_train = train_df.drop([\"Address\", \"SellerG\", \"Date\", \"CouncilArea\", \"Regionname\", \"Suburb\", \"Method\"], axis=1)"
      ],
      "execution_count": 0,
      "outputs": []
    },
    {
      "metadata": {
        "id": "Z7iRHp01L8zZ",
        "colab_type": "text"
      },
      "cell_type": "markdown",
      "source": [
        "We can now see that we have dropped these columns from our dataframe\n"
      ]
    },
    {
      "metadata": {
        "id": "ZK0oTUw2uOsr",
        "colab_type": "code",
        "colab": {
          "base_uri": "https://localhost:8080/",
          "height": 204
        },
        "outputId": "c814a0ab-d5f2-4535-bedd-5e23fec8cf02"
      },
      "cell_type": "code",
      "source": [
        "new_train.head()"
      ],
      "execution_count": 5,
      "outputs": [
        {
          "output_type": "execute_result",
          "data": {
            "text/html": [
              "<div>\n",
              "<style scoped>\n",
              "    .dataframe tbody tr th:only-of-type {\n",
              "        vertical-align: middle;\n",
              "    }\n",
              "\n",
              "    .dataframe tbody tr th {\n",
              "        vertical-align: top;\n",
              "    }\n",
              "\n",
              "    .dataframe thead th {\n",
              "        text-align: right;\n",
              "    }\n",
              "</style>\n",
              "<table border=\"1\" class=\"dataframe\">\n",
              "  <thead>\n",
              "    <tr style=\"text-align: right;\">\n",
              "      <th></th>\n",
              "      <th>Rooms</th>\n",
              "      <th>Type</th>\n",
              "      <th>Price</th>\n",
              "      <th>Postcode</th>\n",
              "      <th>Propertycount</th>\n",
              "      <th>Distance</th>\n",
              "    </tr>\n",
              "  </thead>\n",
              "  <tbody>\n",
              "    <tr>\n",
              "      <th>0</th>\n",
              "      <td>3</td>\n",
              "      <td>h</td>\n",
              "      <td>1490000.0</td>\n",
              "      <td>3067</td>\n",
              "      <td>4019</td>\n",
              "      <td>3.0</td>\n",
              "    </tr>\n",
              "    <tr>\n",
              "      <th>1</th>\n",
              "      <td>3</td>\n",
              "      <td>h</td>\n",
              "      <td>1220000.0</td>\n",
              "      <td>3067</td>\n",
              "      <td>4019</td>\n",
              "      <td>3.0</td>\n",
              "    </tr>\n",
              "    <tr>\n",
              "      <th>2</th>\n",
              "      <td>3</td>\n",
              "      <td>h</td>\n",
              "      <td>1420000.0</td>\n",
              "      <td>3067</td>\n",
              "      <td>4019</td>\n",
              "      <td>3.0</td>\n",
              "    </tr>\n",
              "    <tr>\n",
              "      <th>3</th>\n",
              "      <td>3</td>\n",
              "      <td>h</td>\n",
              "      <td>1515000.0</td>\n",
              "      <td>3040</td>\n",
              "      <td>1543</td>\n",
              "      <td>7.5</td>\n",
              "    </tr>\n",
              "    <tr>\n",
              "      <th>4</th>\n",
              "      <td>2</td>\n",
              "      <td>h</td>\n",
              "      <td>670000.0</td>\n",
              "      <td>3042</td>\n",
              "      <td>3464</td>\n",
              "      <td>10.4</td>\n",
              "    </tr>\n",
              "  </tbody>\n",
              "</table>\n",
              "</div>"
            ],
            "text/plain": [
              "   Rooms Type      Price  Postcode  Propertycount  Distance\n",
              "0      3    h  1490000.0      3067           4019       3.0\n",
              "1      3    h  1220000.0      3067           4019       3.0\n",
              "2      3    h  1420000.0      3067           4019       3.0\n",
              "3      3    h  1515000.0      3040           1543       7.5\n",
              "4      2    h   670000.0      3042           3464      10.4"
            ]
          },
          "metadata": {
            "tags": []
          },
          "execution_count": 5
        }
      ]
    },
    {
      "metadata": {
        "id": "fmmzYqauMET3",
        "colab_type": "text"
      },
      "cell_type": "markdown",
      "source": [
        "But what are we going to do to \"Type\" ? Our algorithm cannot learn on letters, it can only work on numbers\n"
      ]
    },
    {
      "metadata": {
        "id": "MhZ1RtIvMP3z",
        "colab_type": "text"
      },
      "cell_type": "markdown",
      "source": [
        "We want to then encode it so it becomes a number. Get all the values in our \"Type\" column so we can encode them\n"
      ]
    },
    {
      "metadata": {
        "id": "oTHwhu6vuP3x",
        "colab_type": "code",
        "colab": {}
      },
      "cell_type": "code",
      "source": [
        "features_to_encode = new_train['Type'].values"
      ],
      "execution_count": 0,
      "outputs": []
    },
    {
      "metadata": {
        "id": "y48GBtf1MeE1",
        "colab_type": "text"
      },
      "cell_type": "markdown",
      "source": [
        "Then delete them from our dataframe as they are of no use as letters"
      ]
    },
    {
      "metadata": {
        "id": "qgBYrxPNusvw",
        "colab_type": "code",
        "colab": {}
      },
      "cell_type": "code",
      "source": [
        "new_train = new_train.drop('Type', axis=1)"
      ],
      "execution_count": 0,
      "outputs": []
    },
    {
      "metadata": {
        "id": "NGk9I1GIwkB-",
        "colab_type": "code",
        "colab": {}
      },
      "cell_type": "code",
      "source": [
        "from sklearn.preprocessing import OneHotEncoder"
      ],
      "execution_count": 0,
      "outputs": []
    },
    {
      "metadata": {
        "id": "pm-bpvc1wtn0",
        "colab_type": "code",
        "colab": {}
      },
      "cell_type": "code",
      "source": [
        "# sklearns OneHotEncoder can do this for us. It is a way of making categorical variables into binary arrays\n",
        "oh = OneHotEncoder()"
      ],
      "execution_count": 0,
      "outputs": []
    },
    {
      "metadata": {
        "id": "e4-xDbZJwvZz",
        "colab_type": "code",
        "colab": {}
      },
      "cell_type": "code",
      "source": [
        "encoded_type_features = oh.fit_transform(features_to_encode.reshape(-1, 1))"
      ],
      "execution_count": 0,
      "outputs": []
    },
    {
      "metadata": {
        "id": "r-rt8hDZw9Xx",
        "colab_type": "code",
        "colab": {
          "base_uri": "https://localhost:8080/",
          "height": 136
        },
        "outputId": "2b6faf47-ab3b-4b15-87ee-c83029f7e54f"
      },
      "cell_type": "code",
      "source": [
        "# Check out the array and how it looks\n",
        "encoded_type_features.toarray()"
      ],
      "execution_count": 11,
      "outputs": [
        {
          "output_type": "execute_result",
          "data": {
            "text/plain": [
              "array([[1., 0., 0.],\n",
              "       [1., 0., 0.],\n",
              "       [1., 0., 0.],\n",
              "       ...,\n",
              "       [1., 0., 0.],\n",
              "       [0., 0., 1.],\n",
              "       [1., 0., 0.]])"
            ]
          },
          "metadata": {
            "tags": []
          },
          "execution_count": 11
        }
      ]
    },
    {
      "metadata": {
        "id": "_RtdWPyZxHdT",
        "colab_type": "code",
        "colab": {
          "base_uri": "https://localhost:8080/",
          "height": 34
        },
        "outputId": "75b4e402-9dfc-44b3-83ea-4af0cc597b57"
      },
      "cell_type": "code",
      "source": [
        "# We can also see what categories were present in our \"Type\" column\n",
        "oh.categories_"
      ],
      "execution_count": 12,
      "outputs": [
        {
          "output_type": "execute_result",
          "data": {
            "text/plain": [
              "[array(['h', 't', 'u'], dtype=object)]"
            ]
          },
          "metadata": {
            "tags": []
          },
          "execution_count": 12
        }
      ]
    },
    {
      "metadata": {
        "id": "AcyurdwAyXIv",
        "colab_type": "code",
        "colab": {}
      },
      "cell_type": "code",
      "source": [
        "# We now need to create a new type of dataframe which will support this new datatype\n",
        "columns = [\"Rooms\", \"Price\", \"Postcode\", \"Propertycount\", \"Distance\", \"Type1\", \"Type2\", \"Type3\"]"
      ],
      "execution_count": 0,
      "outputs": []
    },
    {
      "metadata": {
        "id": "-3kXbRtU0xOO",
        "colab_type": "code",
        "colab": {}
      },
      "cell_type": "code",
      "source": [
        "# Transform into a matrix so we can add the columns\n",
        "new_matrix = new_train.as_matrix()"
      ],
      "execution_count": 0,
      "outputs": []
    },
    {
      "metadata": {
        "id": "vNmVLAUv037t",
        "colab_type": "code",
        "colab": {
          "base_uri": "https://localhost:8080/",
          "height": 34
        },
        "outputId": "0e94b04f-ddb5-4c48-a93c-f596a73bf120"
      },
      "cell_type": "code",
      "source": [
        "# Notice we do not have the \"Type\" column. So we want to add it\n",
        "new_matrix[0]"
      ],
      "execution_count": 15,
      "outputs": [
        {
          "output_type": "execute_result",
          "data": {
            "text/plain": [
              "array([3.000e+00, 1.490e+06, 3.067e+03, 4.019e+03, 3.000e+00])"
            ]
          },
          "metadata": {
            "tags": []
          },
          "execution_count": 15
        }
      ]
    },
    {
      "metadata": {
        "id": "pbk2n60jNdhS",
        "colab_type": "code",
        "colab": {
          "base_uri": "https://localhost:8080/",
          "height": 34
        },
        "outputId": "2c53e828-90df-4743-b616-f9f242b7fc98"
      },
      "cell_type": "code",
      "source": [
        "new_matrix.shape"
      ],
      "execution_count": 17,
      "outputs": [
        {
          "output_type": "execute_result",
          "data": {
            "text/plain": [
              "(63023, 5)"
            ]
          },
          "metadata": {
            "tags": []
          },
          "execution_count": 17
        }
      ]
    },
    {
      "metadata": {
        "id": "pxPNXVmx1RLT",
        "colab_type": "code",
        "colab": {}
      },
      "cell_type": "code",
      "source": [
        "# np.c_ is a function which adds columns to a matrix. We use it to add columns to our new_matrix\n",
        "matrix_with_columns = np.c_[new_matrix, encoded_type_features.toarray()]"
      ],
      "execution_count": 0,
      "outputs": []
    },
    {
      "metadata": {
        "id": "4Nf48rBC1m76",
        "colab_type": "code",
        "colab": {
          "base_uri": "https://localhost:8080/",
          "height": 34
        },
        "outputId": "a2e593cb-208e-498e-f657-0ed5d637c77e"
      },
      "cell_type": "code",
      "source": [
        "# We can see we have 3 more columns now! Meaning we were able to add our \"Type\" variables\n",
        "matrix_with_columns.shape"
      ],
      "execution_count": 18,
      "outputs": [
        {
          "output_type": "execute_result",
          "data": {
            "text/plain": [
              "(63023, 8)"
            ]
          },
          "metadata": {
            "tags": []
          },
          "execution_count": 18
        }
      ]
    },
    {
      "metadata": {
        "id": "MqRDDqIS1yWg",
        "colab_type": "code",
        "colab": {
          "base_uri": "https://localhost:8080/",
          "height": 51
        },
        "outputId": "40ac8303-5cd6-4fdd-9f39-560a51160cc0"
      },
      "cell_type": "code",
      "source": [
        "matrix_with_columns[0]"
      ],
      "execution_count": 19,
      "outputs": [
        {
          "output_type": "execute_result",
          "data": {
            "text/plain": [
              "array([3.000e+00, 1.490e+06, 3.067e+03, 4.019e+03, 3.000e+00, 1.000e+00,\n",
              "       0.000e+00, 0.000e+00])"
            ]
          },
          "metadata": {
            "tags": []
          },
          "execution_count": 19
        }
      ]
    },
    {
      "metadata": {
        "id": "rZ-uQz0gNxeO",
        "colab_type": "text"
      },
      "cell_type": "markdown",
      "source": [
        "Now, we don't want our alogrithm to think certain things are more important because they have higher values. I.e we don't want our algorithm to think Postal Code is more important than rooms just because 34132 > 3. So we want to scale the accoridngly and have them all on values [0, 1]"
      ]
    },
    {
      "metadata": {
        "id": "wqvRasdo2A_K",
        "colab_type": "code",
        "colab": {}
      },
      "cell_type": "code",
      "source": [
        "# We once again use sklearn\n",
        "from sklearn.preprocessing import MinMaxScaler"
      ],
      "execution_count": 0,
      "outputs": []
    },
    {
      "metadata": {
        "id": "zF0U5bkx6OFc",
        "colab_type": "code",
        "colab": {}
      },
      "cell_type": "code",
      "source": [
        "scaler = MinMaxScaler(feature_range=(0, 1))\n"
      ],
      "execution_count": 0,
      "outputs": []
    },
    {
      "metadata": {
        "id": "bMYWaiQs6R8V",
        "colab_type": "code",
        "colab": {}
      },
      "cell_type": "code",
      "source": [
        "# Turn our matrix into a dataframe again so we can use the scaler\n",
        "df = pd.DataFrame(matrix_with_columns)"
      ],
      "execution_count": 0,
      "outputs": []
    },
    {
      "metadata": {
        "id": "Gos288aZ6biz",
        "colab_type": "code",
        "colab": {
          "base_uri": "https://localhost:8080/",
          "height": 204
        },
        "outputId": "d27df4ec-e8fb-4b87-a791-2dc5e15f4246"
      },
      "cell_type": "code",
      "source": [
        "df.head()"
      ],
      "execution_count": 24,
      "outputs": [
        {
          "output_type": "execute_result",
          "data": {
            "text/html": [
              "<div>\n",
              "<style scoped>\n",
              "    .dataframe tbody tr th:only-of-type {\n",
              "        vertical-align: middle;\n",
              "    }\n",
              "\n",
              "    .dataframe tbody tr th {\n",
              "        vertical-align: top;\n",
              "    }\n",
              "\n",
              "    .dataframe thead th {\n",
              "        text-align: right;\n",
              "    }\n",
              "</style>\n",
              "<table border=\"1\" class=\"dataframe\">\n",
              "  <thead>\n",
              "    <tr style=\"text-align: right;\">\n",
              "      <th></th>\n",
              "      <th>0</th>\n",
              "      <th>1</th>\n",
              "      <th>2</th>\n",
              "      <th>3</th>\n",
              "      <th>4</th>\n",
              "      <th>5</th>\n",
              "      <th>6</th>\n",
              "      <th>7</th>\n",
              "    </tr>\n",
              "  </thead>\n",
              "  <tbody>\n",
              "    <tr>\n",
              "      <th>0</th>\n",
              "      <td>3.0</td>\n",
              "      <td>1490000.0</td>\n",
              "      <td>3067.0</td>\n",
              "      <td>4019.0</td>\n",
              "      <td>3.0</td>\n",
              "      <td>1.0</td>\n",
              "      <td>0.0</td>\n",
              "      <td>0.0</td>\n",
              "    </tr>\n",
              "    <tr>\n",
              "      <th>1</th>\n",
              "      <td>3.0</td>\n",
              "      <td>1220000.0</td>\n",
              "      <td>3067.0</td>\n",
              "      <td>4019.0</td>\n",
              "      <td>3.0</td>\n",
              "      <td>1.0</td>\n",
              "      <td>0.0</td>\n",
              "      <td>0.0</td>\n",
              "    </tr>\n",
              "    <tr>\n",
              "      <th>2</th>\n",
              "      <td>3.0</td>\n",
              "      <td>1420000.0</td>\n",
              "      <td>3067.0</td>\n",
              "      <td>4019.0</td>\n",
              "      <td>3.0</td>\n",
              "      <td>1.0</td>\n",
              "      <td>0.0</td>\n",
              "      <td>0.0</td>\n",
              "    </tr>\n",
              "    <tr>\n",
              "      <th>3</th>\n",
              "      <td>3.0</td>\n",
              "      <td>1515000.0</td>\n",
              "      <td>3040.0</td>\n",
              "      <td>1543.0</td>\n",
              "      <td>7.5</td>\n",
              "      <td>1.0</td>\n",
              "      <td>0.0</td>\n",
              "      <td>0.0</td>\n",
              "    </tr>\n",
              "    <tr>\n",
              "      <th>4</th>\n",
              "      <td>2.0</td>\n",
              "      <td>670000.0</td>\n",
              "      <td>3042.0</td>\n",
              "      <td>3464.0</td>\n",
              "      <td>10.4</td>\n",
              "      <td>1.0</td>\n",
              "      <td>0.0</td>\n",
              "      <td>0.0</td>\n",
              "    </tr>\n",
              "  </tbody>\n",
              "</table>\n",
              "</div>"
            ],
            "text/plain": [
              "     0          1       2       3     4    5    6    7\n",
              "0  3.0  1490000.0  3067.0  4019.0   3.0  1.0  0.0  0.0\n",
              "1  3.0  1220000.0  3067.0  4019.0   3.0  1.0  0.0  0.0\n",
              "2  3.0  1420000.0  3067.0  4019.0   3.0  1.0  0.0  0.0\n",
              "3  3.0  1515000.0  3040.0  1543.0   7.5  1.0  0.0  0.0\n",
              "4  2.0   670000.0  3042.0  3464.0  10.4  1.0  0.0  0.0"
            ]
          },
          "metadata": {
            "tags": []
          },
          "execution_count": 24
        }
      ]
    },
    {
      "metadata": {
        "id": "HiI3HXbk6dDR",
        "colab_type": "code",
        "colab": {}
      },
      "cell_type": "code",
      "source": [
        "scaled_train = scaler.fit_transform(df)"
      ],
      "execution_count": 0,
      "outputs": []
    },
    {
      "metadata": {
        "id": "v3Ztsd3b6nRD",
        "colab_type": "code",
        "colab": {
          "base_uri": "https://localhost:8080/",
          "height": 51
        },
        "outputId": "c5dde2d4-9116-4e7e-cc9a-59e4a90220b4"
      },
      "cell_type": "code",
      "source": [
        "# See our first column\n",
        "scaled_train[0]"
      ],
      "execution_count": 26,
      "outputs": [
        {
          "output_type": "execute_result",
          "data": {
            "text/plain": [
              "array([0.06666667, 0.12640576, 0.06836735, 0.18416547, 0.04680187,\n",
              "       1.        , 0.        , 0.        ])"
            ]
          },
          "metadata": {
            "tags": []
          },
          "execution_count": 26
        }
      ]
    },
    {
      "metadata": {
        "id": "1KzWYntS6phc",
        "colab_type": "code",
        "colab": {}
      },
      "cell_type": "code",
      "source": [
        "# We have our values in a dataframe but we want to add names to the columns to see what we are doing\n",
        "scaled_train_df = pd.DataFrame(scaled_train, columns=columns)"
      ],
      "execution_count": 0,
      "outputs": []
    },
    {
      "metadata": {
        "id": "3Rsh7Za77VvS",
        "colab_type": "code",
        "colab": {
          "base_uri": "https://localhost:8080/",
          "height": 204
        },
        "outputId": "ac448df3-d430-4d15-94bc-594972e44086"
      },
      "cell_type": "code",
      "source": [
        "scaled_train_df.head()"
      ],
      "execution_count": 28,
      "outputs": [
        {
          "output_type": "execute_result",
          "data": {
            "text/html": [
              "<div>\n",
              "<style scoped>\n",
              "    .dataframe tbody tr th:only-of-type {\n",
              "        vertical-align: middle;\n",
              "    }\n",
              "\n",
              "    .dataframe tbody tr th {\n",
              "        vertical-align: top;\n",
              "    }\n",
              "\n",
              "    .dataframe thead th {\n",
              "        text-align: right;\n",
              "    }\n",
              "</style>\n",
              "<table border=\"1\" class=\"dataframe\">\n",
              "  <thead>\n",
              "    <tr style=\"text-align: right;\">\n",
              "      <th></th>\n",
              "      <th>Rooms</th>\n",
              "      <th>Price</th>\n",
              "      <th>Postcode</th>\n",
              "      <th>Propertycount</th>\n",
              "      <th>Distance</th>\n",
              "      <th>Type1</th>\n",
              "      <th>Type2</th>\n",
              "      <th>Type3</th>\n",
              "    </tr>\n",
              "  </thead>\n",
              "  <tbody>\n",
              "    <tr>\n",
              "      <th>0</th>\n",
              "      <td>0.066667</td>\n",
              "      <td>0.126406</td>\n",
              "      <td>0.068367</td>\n",
              "      <td>0.184165</td>\n",
              "      <td>0.046802</td>\n",
              "      <td>1.0</td>\n",
              "      <td>0.0</td>\n",
              "      <td>0.0</td>\n",
              "    </tr>\n",
              "    <tr>\n",
              "      <th>1</th>\n",
              "      <td>0.066667</td>\n",
              "      <td>0.102114</td>\n",
              "      <td>0.068367</td>\n",
              "      <td>0.184165</td>\n",
              "      <td>0.046802</td>\n",
              "      <td>1.0</td>\n",
              "      <td>0.0</td>\n",
              "      <td>0.0</td>\n",
              "    </tr>\n",
              "    <tr>\n",
              "      <th>2</th>\n",
              "      <td>0.066667</td>\n",
              "      <td>0.120108</td>\n",
              "      <td>0.068367</td>\n",
              "      <td>0.184165</td>\n",
              "      <td>0.046802</td>\n",
              "      <td>1.0</td>\n",
              "      <td>0.0</td>\n",
              "      <td>0.0</td>\n",
              "    </tr>\n",
              "    <tr>\n",
              "      <th>3</th>\n",
              "      <td>0.066667</td>\n",
              "      <td>0.128655</td>\n",
              "      <td>0.040816</td>\n",
              "      <td>0.069594</td>\n",
              "      <td>0.117005</td>\n",
              "      <td>1.0</td>\n",
              "      <td>0.0</td>\n",
              "      <td>0.0</td>\n",
              "    </tr>\n",
              "    <tr>\n",
              "      <th>4</th>\n",
              "      <td>0.033333</td>\n",
              "      <td>0.052632</td>\n",
              "      <td>0.042857</td>\n",
              "      <td>0.158484</td>\n",
              "      <td>0.162246</td>\n",
              "      <td>1.0</td>\n",
              "      <td>0.0</td>\n",
              "      <td>0.0</td>\n",
              "    </tr>\n",
              "  </tbody>\n",
              "</table>\n",
              "</div>"
            ],
            "text/plain": [
              "      Rooms     Price  Postcode  Propertycount  Distance  Type1  Type2  Type3\n",
              "0  0.066667  0.126406  0.068367       0.184165  0.046802    1.0    0.0    0.0\n",
              "1  0.066667  0.102114  0.068367       0.184165  0.046802    1.0    0.0    0.0\n",
              "2  0.066667  0.120108  0.068367       0.184165  0.046802    1.0    0.0    0.0\n",
              "3  0.066667  0.128655  0.040816       0.069594  0.117005    1.0    0.0    0.0\n",
              "4  0.033333  0.052632  0.042857       0.158484  0.162246    1.0    0.0    0.0"
            ]
          },
          "metadata": {
            "tags": []
          },
          "execution_count": 28
        }
      ]
    },
    {
      "metadata": {
        "id": "yLhCip4W8WFF",
        "colab_type": "code",
        "colab": {}
      },
      "cell_type": "code",
      "source": [
        "# You might not see it above, but we have NaN values in our data. This is critical for the algorithm as it heavily affects the learning \n",
        "# So we use a function that fills all the NaN with the mean value of the column. This is better, but not optimal\n",
        "scaled_train_df = scaled_train_df.fillna(scaled_train_df.mean())"
      ],
      "execution_count": 0,
      "outputs": []
    },
    {
      "metadata": {
        "id": "BFoFiyar7XPW",
        "colab_type": "code",
        "colab": {}
      },
      "cell_type": "code",
      "source": [
        "# We want our training data to be everything except the prices (which we will try to predict)\n",
        "X = scaled_train_df.drop(\"Price\", axis=1).values\n",
        "Y = scaled_train_df[[\"Price\"]].values"
      ],
      "execution_count": 0,
      "outputs": []
    },
    {
      "metadata": {
        "id": "u-BiVeTsPhaN",
        "colab_type": "text"
      },
      "cell_type": "markdown",
      "source": [
        "# Build the model"
      ]
    },
    {
      "metadata": {
        "id": "so-Om2ql7iBl",
        "colab_type": "code",
        "colab": {}
      },
      "cell_type": "code",
      "source": [
        "# Decalre the model\n",
        "model = tf.keras.Sequential()"
      ],
      "execution_count": 0,
      "outputs": []
    },
    {
      "metadata": {
        "id": "CLXOWbF17lZv",
        "colab_type": "code",
        "colab": {}
      },
      "cell_type": "code",
      "source": [
        "model.add(tf.keras.layers.Dense(50, activation='relu'))\n",
        "model.add(tf.keras.layers.Dense(100, activation='relu'))\n",
        "model.add(tf.keras.layers.Dense(50, activation='relu'))\n",
        "model.add(tf.keras.layers.Dense(1))"
      ],
      "execution_count": 0,
      "outputs": []
    },
    {
      "metadata": {
        "id": "PNDKpFz_7pNV",
        "colab_type": "code",
        "colab": {
          "base_uri": "https://localhost:8080/",
          "height": 88
        },
        "outputId": "77786691-c10b-4962-9324-b9f96d0c8b2c"
      },
      "cell_type": "code",
      "source": [
        "model.compile(loss='mean_squared_error', optimizer='adam')"
      ],
      "execution_count": 34,
      "outputs": [
        {
          "output_type": "stream",
          "text": [
            "WARNING:tensorflow:From /usr/local/lib/python3.6/dist-packages/tensorflow/python/ops/resource_variable_ops.py:435: colocate_with (from tensorflow.python.framework.ops) is deprecated and will be removed in a future version.\n",
            "Instructions for updating:\n",
            "Colocations handled automatically by placer.\n"
          ],
          "name": "stdout"
        }
      ]
    },
    {
      "metadata": {
        "id": "83Cd5L2i7q4_",
        "colab_type": "code",
        "colab": {}
      },
      "cell_type": "code",
      "source": [
        "model.fit(\n",
        "    X[10:],\n",
        "    Y[10:],\n",
        "    epochs=50,\n",
        "    shuffle=True,\n",
        "    verbose=2\n",
        ")"
      ],
      "execution_count": 0,
      "outputs": []
    },
    {
      "metadata": {
        "id": "nolokqIxPkQl",
        "colab_type": "text"
      },
      "cell_type": "markdown",
      "source": [
        "# Make Predictions"
      ]
    },
    {
      "metadata": {
        "id": "WCvupTyV7thX",
        "colab_type": "code",
        "colab": {}
      },
      "cell_type": "code",
      "source": [
        "prediction = model.predict(X[:1])"
      ],
      "execution_count": 0,
      "outputs": []
    },
    {
      "metadata": {
        "id": "tK698nk_8APb",
        "colab_type": "code",
        "colab": {
          "base_uri": "https://localhost:8080/",
          "height": 34
        },
        "outputId": "17e64afe-87c6-4a03-9ef3-7ab528d8f54e"
      },
      "cell_type": "code",
      "source": [
        "prediction"
      ],
      "execution_count": 166,
      "outputs": [
        {
          "output_type": "execute_result",
          "data": {
            "text/plain": [
              "array([[0.10254882]], dtype=float32)"
            ]
          },
          "metadata": {
            "tags": []
          },
          "execution_count": 166
        }
      ]
    },
    {
      "metadata": {
        "id": "Li4EnY2O8Rla",
        "colab_type": "code",
        "colab": {}
      },
      "cell_type": "code",
      "source": [
        "multiplier = scaler.scale_[1]\n",
        "adder = scaler.min_[1]"
      ],
      "execution_count": 0,
      "outputs": []
    },
    {
      "metadata": {
        "id": "ZkXkuSxR947J",
        "colab_type": "code",
        "colab": {}
      },
      "cell_type": "code",
      "source": [
        "# Scale back\n",
        "pred = prediction[0][0]\n",
        "print('Prediction with scaling  = ',format(pred))\n",
        "pred -= adder\n",
        "pred /= multiplier\n",
        "print(\"Housing Price Prediction  - ${}\".format(pred))"
      ],
      "execution_count": 0,
      "outputs": []
    },
    {
      "metadata": {
        "id": "JogYNa75-LY3",
        "colab_type": "code",
        "colab": {}
      },
      "cell_type": "code",
      "source": [
        ""
      ],
      "execution_count": 0,
      "outputs": []
    }
  ]
}